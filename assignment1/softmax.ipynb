{
 "cells": [
  {
   "cell_type": "markdown",
   "metadata": {},
   "source": [
    "# Softmax exercise\n",
    "\n",
    "*Complete and hand in this completed worksheet (including its outputs and any supporting code outside of the worksheet) with your assignment submission. For more details see the [assignments page](http://vision.stanford.edu/teaching/cs231n/assignments.html) on the course website.*\n",
    "\n",
    "This exercise is analogous to the SVM exercise. You will:\n",
    "\n",
    "- implement a fully-vectorized **loss function** for the Softmax classifier\n",
    "- implement the fully-vectorized expression for its **analytic gradient**\n",
    "- **check your implementation** with numerical gradient\n",
    "- use a validation set to **tune the learning rate and regularization** strength\n",
    "- **optimize** the loss function with **SGD**\n",
    "- **visualize** the final learned weights\n"
   ]
  },
  {
   "cell_type": "code",
   "execution_count": 1,
   "metadata": {},
   "outputs": [],
   "source": [
    "import random\n",
    "import numpy as np\n",
    "from cs231n.data_utils import load_CIFAR10\n",
    "import matplotlib.pyplot as plt\n",
    "\n",
    "from __future__ import print_function\n",
    "\n",
    "%matplotlib inline\n",
    "plt.rcParams['figure.figsize'] = (10.0, 8.0) # set default size of plots\n",
    "plt.rcParams['image.interpolation'] = 'nearest'\n",
    "plt.rcParams['image.cmap'] = 'gray'\n",
    "\n",
    "# for auto-reloading extenrnal modules\n",
    "# see http://stackoverflow.com/questions/1907993/autoreload-of-modules-in-ipython\n",
    "%load_ext autoreload\n",
    "%autoreload 2"
   ]
  },
  {
   "cell_type": "code",
   "execution_count": 3,
   "metadata": {},
   "outputs": [
    {
     "name": "stdout",
     "output_type": "stream",
     "text": [
      "Train data shape:  (49000, 3073)\n",
      "Train labels shape:  (49000,)\n",
      "Validation data shape:  (1000, 3073)\n",
      "Validation labels shape:  (1000,)\n",
      "Test data shape:  (1000, 3073)\n",
      "Test labels shape:  (1000,)\n",
      "dev data shape:  (500, 3073)\n",
      "dev labels shape:  (500,)\n"
     ]
    }
   ],
   "source": [
    "def get_CIFAR10_data(num_training=49000, num_validation=1000, num_test=1000, num_dev=500):\n",
    "    \"\"\"\n",
    "    Load the CIFAR-10 dataset from disk and perform preprocessing to prepare\n",
    "    it for the linear classifier. These are the same steps as we used for the\n",
    "    SVM, but condensed to a single function.  \n",
    "    \"\"\"\n",
    "    # Load the raw CIFAR-10 data\n",
    "    cifar10_dir = 'cs231n/datasets/cifar-10-batches-py'\n",
    "    X_train, y_train, X_test, y_test = load_CIFAR10(cifar10_dir)\n",
    "    \n",
    "    # subsample the data\n",
    "    mask = list(range(num_training, num_training + num_validation))\n",
    "    X_val = X_train[mask]\n",
    "    y_val = y_train[mask]\n",
    "    mask = list(range(num_training))\n",
    "    X_train = X_train[mask]\n",
    "    y_train = y_train[mask]\n",
    "    mask = list(range(num_test))\n",
    "    X_test = X_test[mask]\n",
    "    y_test = y_test[mask]\n",
    "    mask = np.random.choice(num_training, num_dev, replace=False)\n",
    "    X_dev = X_train[mask]\n",
    "    y_dev = y_train[mask]\n",
    "    \n",
    "    # Preprocessing: reshape the image data into rows\n",
    "    X_train = np.reshape(X_train, (X_train.shape[0], -1))\n",
    "    X_val = np.reshape(X_val, (X_val.shape[0], -1))\n",
    "    X_test = np.reshape(X_test, (X_test.shape[0], -1))\n",
    "    X_dev = np.reshape(X_dev, (X_dev.shape[0], -1))\n",
    "    \n",
    "    # Normalize the data: subtract the mean image\n",
    "    mean_image = np.mean(X_train, axis = 0)\n",
    "    X_train -= mean_image\n",
    "    X_val -= mean_image\n",
    "    X_test -= mean_image\n",
    "    X_dev -= mean_image\n",
    "    \n",
    "    # add bias dimension and transform into columns\n",
    "    X_train = np.hstack([X_train, np.ones((X_train.shape[0], 1))])\n",
    "    X_val = np.hstack([X_val, np.ones((X_val.shape[0], 1))])\n",
    "    X_test = np.hstack([X_test, np.ones((X_test.shape[0], 1))])\n",
    "    X_dev = np.hstack([X_dev, np.ones((X_dev.shape[0], 1))])\n",
    "    \n",
    "    return X_train, y_train, X_val, y_val, X_test, y_test, X_dev, y_dev\n",
    "\n",
    "\n",
    "# Invoke the above function to get our data.\n",
    "X_train, y_train, X_val, y_val, X_test, y_test, X_dev, y_dev = get_CIFAR10_data()\n",
    "print('Train data shape: ', X_train.shape)\n",
    "print('Train labels shape: ', y_train.shape)\n",
    "print('Validation data shape: ', X_val.shape)\n",
    "print('Validation labels shape: ', y_val.shape)\n",
    "print('Test data shape: ', X_test.shape)\n",
    "print('Test labels shape: ', y_test.shape)\n",
    "print('dev data shape: ', X_dev.shape)\n",
    "print('dev labels shape: ', y_dev.shape)"
   ]
  },
  {
   "cell_type": "markdown",
   "metadata": {},
   "source": [
    "## Softmax Classifier\n",
    "\n",
    "Your code for this section will all be written inside **cs231n/classifiers/softmax.py**. \n"
   ]
  },
  {
   "cell_type": "code",
   "execution_count": 13,
   "metadata": {},
   "outputs": [
    {
     "name": "stdout",
     "output_type": "stream",
     "text": [
      "loss: 2.403855\n",
      "sanity check: 2.302585\n"
     ]
    }
   ],
   "source": [
    "# First implement the naive softmax loss function with nested loops.\n",
    "# Open the file cs231n/classifiers/softmax.py and implement the\n",
    "# softmax_loss_naive function.\n",
    "\n",
    "from cs231n.classifiers.softmax import softmax_loss_naive\n",
    "import time\n",
    "\n",
    "# Generate a random softmax weight matrix and use it to compute the loss.\n",
    "W = np.random.randn(3073, 10) * 0.0001\n",
    "loss, grad = softmax_loss_naive(W, X_dev, y_dev, 0.0)\n",
    "\n",
    "# As a rough sanity check, our loss should be something close to -log(0.1).\n",
    "print('loss: %f' % loss)\n",
    "print('sanity check: %f' % (-np.log(0.1)))"
   ]
  },
  {
   "cell_type": "markdown",
   "metadata": {},
   "source": [
    "## Inline Question 1:\n",
    "Why do we expect our loss to be close to -log(0.1)? Explain briefly.**\n",
    "\n",
    "**Your answer:** There are 10 classes, each of equal probability, so the probability of the correct class is expected to be 10% or 0.1. The loss calculates the negative log, so the loss is expected to be -log(0.1).\n"
   ]
  },
  {
   "cell_type": "code",
   "execution_count": 14,
   "metadata": {},
   "outputs": [
    {
     "name": "stdout",
     "output_type": "stream",
     "text": [
      "numerical: -1.235326 analytic: -1.235326, relative error: 1.832755e-08\n",
      "numerical: 2.607129 analytic: 2.607129, relative error: 2.930532e-08\n",
      "numerical: -1.654904 analytic: -1.654904, relative error: 2.485965e-09\n",
      "numerical: 5.247517 analytic: 5.247517, relative error: 1.050276e-08\n",
      "numerical: -1.220757 analytic: -1.220757, relative error: 2.401046e-08\n",
      "numerical: -0.013810 analytic: -0.013810, relative error: 3.671823e-06\n",
      "numerical: 3.438979 analytic: 3.438979, relative error: 3.197110e-09\n",
      "numerical: -1.975502 analytic: -1.975502, relative error: 2.634410e-09\n",
      "numerical: -1.227341 analytic: -1.227341, relative error: 1.187596e-08\n",
      "numerical: -1.165214 analytic: -1.165214, relative error: 1.447814e-08\n",
      "numerical: -1.340871 analytic: -1.329473, relative error: 4.268312e-03\n",
      "numerical: -0.029102 analytic: -0.023186, relative error: 1.131537e-01\n",
      "numerical: 0.629871 analytic: 0.637500, relative error: 6.019819e-03\n",
      "numerical: 3.281554 analytic: 3.266933, relative error: 2.232696e-03\n",
      "numerical: 0.609380 analytic: 0.625696, relative error: 1.321052e-02\n",
      "numerical: 3.394816 analytic: 3.395019, relative error: 2.995940e-05\n",
      "numerical: 1.350669 analytic: 1.341311, relative error: 3.476476e-03\n",
      "numerical: -0.178254 analytic: -0.179254, relative error: 2.798947e-03\n",
      "numerical: 0.744715 analytic: 0.749334, relative error: 3.091532e-03\n",
      "numerical: 0.573284 analytic: 0.568479, relative error: 4.208557e-03\n"
     ]
    }
   ],
   "source": [
    "# Complete the implementation of softmax_loss_naive and implement a (naive)\n",
    "# version of the gradient that uses nested loops.\n",
    "loss, grad = softmax_loss_naive(W, X_dev, y_dev, 0.0)\n",
    "\n",
    "# As we did for the SVM, use numeric gradient checking as a debugging tool.\n",
    "# The numeric gradient should be close to the analytic gradient.\n",
    "from cs231n.gradient_check import grad_check_sparse\n",
    "f = lambda w: softmax_loss_naive(w, X_dev, y_dev, 0.0)[0]\n",
    "grad_numerical = grad_check_sparse(f, W, grad, 10)\n",
    "\n",
    "# similar to SVM case, do another gradient check with regularization\n",
    "loss, grad = softmax_loss_naive(W, X_dev, y_dev, 5e1)\n",
    "f = lambda w: softmax_loss_naive(w, X_dev, y_dev, 5e1)[0]\n",
    "grad_numerical = grad_check_sparse(f, W, grad, 10)"
   ]
  },
  {
   "cell_type": "code",
   "execution_count": 15,
   "metadata": {},
   "outputs": [
    {
     "name": "stdout",
     "output_type": "stream",
     "text": [
      "naive loss: 2.403855e+00 computed in 0.251931s\n",
      "vectorized loss: 2.403855e+00 computed in 0.007965s\n",
      "Loss difference: 0.000000\n",
      "Gradient difference: 0.000000\n"
     ]
    }
   ],
   "source": [
    "# Now that we have a naive implementation of the softmax loss function and its gradient,\n",
    "# implement a vectorized version in softmax_loss_vectorized.\n",
    "# The two versions should compute the same results, but the vectorized version should be\n",
    "# much faster.\n",
    "tic = time.time()\n",
    "loss_naive, grad_naive = softmax_loss_naive(W, X_dev, y_dev, 0.000005)\n",
    "toc = time.time()\n",
    "print('naive loss: %e computed in %fs' % (loss_naive, toc - tic))\n",
    "\n",
    "from cs231n.classifiers.softmax import softmax_loss_vectorized\n",
    "tic = time.time()\n",
    "loss_vectorized, grad_vectorized = softmax_loss_vectorized(W, X_dev, y_dev, 0.000005)\n",
    "toc = time.time()\n",
    "print('vectorized loss: %e computed in %fs' % (loss_vectorized, toc - tic))\n",
    "\n",
    "# As we did for the SVM, we use the Frobenius norm to compare the two versions\n",
    "# of the gradient.\n",
    "grad_difference = np.linalg.norm(grad_naive - grad_vectorized, ord='fro')\n",
    "print('Loss difference: %f' % np.abs(loss_naive - loss_vectorized))\n",
    "print('Gradient difference: %f' % grad_difference)"
   ]
  },
  {
   "cell_type": "code",
   "execution_count": 26,
   "metadata": {},
   "outputs": [
    {
     "name": "stderr",
     "output_type": "stream",
     "text": [
      "/mnt/d/workspace/cs231n/assignment1/cs231n/classifiers/softmax.py:107: RuntimeWarning: divide by zero encountered in log\n",
      "  losses = -np.log(exp_fyi / sum_exp_f)\n"
     ]
    },
    {
     "name": "stdout",
     "output_type": "stream",
     "text": [
      "lr 4.000000e-06 reg 1.000000e+04 train accuracy: 0.194388 val accuracy: 0.179000\n",
      "lr 4.000000e-06 reg 2.500000e+04 train accuracy: 0.217531 val accuracy: 0.207000\n",
      "lr 4.000000e-06 reg 3.000000e+04 train accuracy: 0.233531 val accuracy: 0.219000\n",
      "lr 4.000000e-06 reg 4.000000e+04 train accuracy: 0.243163 val accuracy: 0.234000\n",
      "lr 4.000000e-06 reg 5.000000e+04 train accuracy: 0.246714 val accuracy: 0.253000\n",
      "lr 4.000000e-06 reg 6.000000e+04 train accuracy: 0.269735 val accuracy: 0.268000\n",
      "lr 4.000000e-06 reg 7.500000e+04 train accuracy: 0.269163 val accuracy: 0.265000\n",
      "lr 4.000000e-06 reg 8.000000e+04 train accuracy: 0.276429 val accuracy: 0.269000\n",
      "lr 8.000000e-06 reg 1.000000e+04 train accuracy: 0.258837 val accuracy: 0.269000\n",
      "lr 8.000000e-06 reg 2.500000e+04 train accuracy: 0.272000 val accuracy: 0.271000\n",
      "lr 8.000000e-06 reg 3.000000e+04 train accuracy: 0.289306 val accuracy: 0.302000\n",
      "lr 8.000000e-06 reg 4.000000e+04 train accuracy: 0.259796 val accuracy: 0.250000\n",
      "lr 8.000000e-06 reg 5.000000e+04 train accuracy: 0.273490 val accuracy: 0.268000\n",
      "lr 8.000000e-06 reg 6.000000e+04 train accuracy: 0.302327 val accuracy: 0.288000\n",
      "lr 8.000000e-06 reg 7.500000e+04 train accuracy: 0.297429 val accuracy: 0.304000\n",
      "lr 8.000000e-06 reg 8.000000e+04 train accuracy: 0.290776 val accuracy: 0.294000\n",
      "lr 1.000000e-05 reg 1.000000e+04 train accuracy: 0.274898 val accuracy: 0.276000\n",
      "lr 1.000000e-05 reg 2.500000e+04 train accuracy: 0.298429 val accuracy: 0.286000\n",
      "lr 1.000000e-05 reg 3.000000e+04 train accuracy: 0.264449 val accuracy: 0.262000\n",
      "lr 1.000000e-05 reg 4.000000e+04 train accuracy: 0.317265 val accuracy: 0.320000\n",
      "lr 1.000000e-05 reg 5.000000e+04 train accuracy: 0.249204 val accuracy: 0.219000\n",
      "lr 1.000000e-05 reg 6.000000e+04 train accuracy: 0.281612 val accuracy: 0.265000\n",
      "lr 1.000000e-05 reg 7.500000e+04 train accuracy: 0.327694 val accuracy: 0.317000\n",
      "lr 1.000000e-05 reg 8.000000e+04 train accuracy: 0.283510 val accuracy: 0.270000\n",
      "lr 5.000000e-05 reg 1.000000e+04 train accuracy: 0.175776 val accuracy: 0.177000\n",
      "lr 5.000000e-05 reg 2.500000e+04 train accuracy: 0.213980 val accuracy: 0.215000\n",
      "lr 5.000000e-05 reg 3.000000e+04 train accuracy: 0.270122 val accuracy: 0.262000\n",
      "lr 5.000000e-05 reg 4.000000e+04 train accuracy: 0.215776 val accuracy: 0.221000\n",
      "lr 5.000000e-05 reg 5.000000e+04 train accuracy: 0.253531 val accuracy: 0.255000\n",
      "lr 5.000000e-05 reg 6.000000e+04 train accuracy: 0.252673 val accuracy: 0.247000\n",
      "lr 5.000000e-05 reg 7.500000e+04 train accuracy: 0.260449 val accuracy: 0.254000\n",
      "lr 5.000000e-05 reg 8.000000e+04 train accuracy: 0.258469 val accuracy: 0.252000\n",
      "lr 1.000000e-04 reg 1.000000e+04 train accuracy: 0.202612 val accuracy: 0.189000\n",
      "lr 1.000000e-04 reg 2.500000e+04 train accuracy: 0.256776 val accuracy: 0.271000\n",
      "lr 1.000000e-04 reg 3.000000e+04 train accuracy: 0.256531 val accuracy: 0.249000\n",
      "lr 1.000000e-04 reg 4.000000e+04 train accuracy: 0.301265 val accuracy: 0.304000\n",
      "lr 1.000000e-04 reg 5.000000e+04 train accuracy: 0.238163 val accuracy: 0.248000\n",
      "lr 1.000000e-04 reg 6.000000e+04 train accuracy: 0.223041 val accuracy: 0.244000\n",
      "lr 1.000000e-04 reg 7.500000e+04 train accuracy: 0.232531 val accuracy: 0.240000\n",
      "lr 1.000000e-04 reg 8.000000e+04 train accuracy: 0.258143 val accuracy: 0.272000\n",
      "lr 2.000000e-04 reg 1.000000e+04 train accuracy: 0.233551 val accuracy: 0.226000\n",
      "lr 2.000000e-04 reg 2.500000e+04 train accuracy: 0.253327 val accuracy: 0.244000\n",
      "lr 2.000000e-04 reg 3.000000e+04 train accuracy: 0.231082 val accuracy: 0.227000\n",
      "lr 2.000000e-04 reg 4.000000e+04 train accuracy: 0.226592 val accuracy: 0.218000\n",
      "lr 2.000000e-04 reg 5.000000e+04 train accuracy: 0.279490 val accuracy: 0.296000\n",
      "lr 2.000000e-04 reg 6.000000e+04 train accuracy: 0.239408 val accuracy: 0.247000\n",
      "lr 2.000000e-04 reg 7.500000e+04 train accuracy: 0.280816 val accuracy: 0.302000\n",
      "lr 2.000000e-04 reg 8.000000e+04 train accuracy: 0.254367 val accuracy: 0.253000\n",
      "lr 4.000000e-04 reg 1.000000e+04 train accuracy: 0.258408 val accuracy: 0.272000\n",
      "lr 4.000000e-04 reg 2.500000e+04 train accuracy: 0.231224 val accuracy: 0.226000\n",
      "lr 4.000000e-04 reg 3.000000e+04 train accuracy: 0.245429 val accuracy: 0.246000\n",
      "lr 4.000000e-04 reg 4.000000e+04 train accuracy: 0.229184 val accuracy: 0.229000\n",
      "lr 4.000000e-04 reg 5.000000e+04 train accuracy: 0.287122 val accuracy: 0.315000\n",
      "lr 4.000000e-04 reg 6.000000e+04 train accuracy: 0.285408 val accuracy: 0.269000\n",
      "lr 4.000000e-04 reg 7.500000e+04 train accuracy: 0.244245 val accuracy: 0.244000\n",
      "lr 4.000000e-04 reg 8.000000e+04 train accuracy: 0.261714 val accuracy: 0.254000\n",
      "lr 1.000000e-03 reg 1.000000e+04 train accuracy: 0.231918 val accuracy: 0.240000\n",
      "lr 1.000000e-03 reg 2.500000e+04 train accuracy: 0.217286 val accuracy: 0.217000\n",
      "lr 1.000000e-03 reg 3.000000e+04 train accuracy: 0.258306 val accuracy: 0.257000\n",
      "lr 1.000000e-03 reg 4.000000e+04 train accuracy: 0.274429 val accuracy: 0.264000\n",
      "lr 1.000000e-03 reg 5.000000e+04 train accuracy: 0.240694 val accuracy: 0.241000\n",
      "lr 1.000000e-03 reg 6.000000e+04 train accuracy: 0.220878 val accuracy: 0.222000\n",
      "lr 1.000000e-03 reg 7.500000e+04 train accuracy: 0.243224 val accuracy: 0.249000\n",
      "lr 1.000000e-03 reg 8.000000e+04 train accuracy: 0.272286 val accuracy: 0.283000\n",
      "best validation accuracy achieved during cross-validation: 0.320000\n"
     ]
    }
   ],
   "source": [
    "# Use the validation set to tune hyperparameters (regularization strength and\n",
    "# learning rate). You should experiment with different ranges for the learning\n",
    "# rates and regularization strengths; if you are careful you should be able to\n",
    "# get a classification accuracy of over 0.35 on the validation set.\n",
    "from cs231n.classifiers import Softmax\n",
    "results = {}\n",
    "best_val = -1\n",
    "best_softmax = None\n",
    "learning_rates = [4e-6, 8e-6, 1e-5, 5e-5, 1e-4, 2e-4, 4e-4, 1e-3]\n",
    "regularization_strengths = [1e4, 2.5e4, 3e4, 4e4, 5e4, 6e4, 7.5e4, 8e4]\n",
    "\n",
    "################################################################################\n",
    "# TODO:                                                                        #\n",
    "# Use the validation set to set the learning rate and regularization strength. #\n",
    "# This should be identical to the validation that you did for the SVM; save    #\n",
    "# the best trained softmax classifer in best_softmax.                          #\n",
    "################################################################################\n",
    "softmax = Softmax()\n",
    "for lr in learning_rates:\n",
    "    for reg in regularization_strengths:\n",
    "        softmax.train(X_train, y_train, learning_rate = lr, reg = reg,\n",
    "                  num_iters = 10)\n",
    "        \n",
    "        y_train_pred = softmax.predict(X_train)\n",
    "        train_accuracy = np.mean(y_train == y_train_pred)\n",
    "        \n",
    "        y_val_pred = softmax.predict(X_val)\n",
    "        val_accuracy = np.mean(y_val == y_val_pred)\n",
    "        \n",
    "        if val_accuracy > best_val:\n",
    "            best_val = val_accuracy\n",
    "            best_softmax = softmax\n",
    "        \n",
    "        results[(lr, reg)] = (train_accuracy, val_accuracy)\n",
    "################################################################################\n",
    "#                              END OF YOUR CODE                                #\n",
    "################################################################################\n",
    "    \n",
    "# Print out results.\n",
    "for lr, reg in sorted(results):\n",
    "    train_accuracy, val_accuracy = results[(lr, reg)]\n",
    "    print('lr %e reg %e train accuracy: %f val accuracy: %f' % (\n",
    "                lr, reg, train_accuracy, val_accuracy))\n",
    "    \n",
    "print('best validation accuracy achieved during cross-validation: %f' % best_val)"
   ]
  },
  {
   "cell_type": "code",
   "execution_count": 27,
   "metadata": {},
   "outputs": [
    {
     "name": "stdout",
     "output_type": "stream",
     "text": [
      "softmax on raw pixels final test set accuracy: 0.268000\n"
     ]
    }
   ],
   "source": [
    "# evaluate on test set\n",
    "# Evaluate the best softmax on test set\n",
    "y_test_pred = best_softmax.predict(X_test)\n",
    "test_accuracy = np.mean(y_test == y_test_pred)\n",
    "print('softmax on raw pixels final test set accuracy: %f' % (test_accuracy, ))"
   ]
  },
  {
   "cell_type": "code",
   "execution_count": 28,
   "metadata": {},
   "outputs": [
    {
     "data": {
      "image/png": "[encoded data removed]",
      "text/plain": [
       "<matplotlib.figure.Figure at 0x7fdef8295c50>"
      ]
     },
     "metadata": {},
     "output_type": "display_data"
    }
   ],
   "source": [
    "# Visualize the learned weights for each class\n",
    "w = best_softmax.W[:-1,:] # strip out the bias\n",
    "w = w.reshape(32, 32, 3, 10)\n",
    "\n",
    "w_min, w_max = np.min(w), np.max(w)\n",
    "\n",
    "classes = ['plane', 'car', 'bird', 'cat', 'deer', 'dog', 'frog', 'horse', 'ship', 'truck']\n",
    "for i in range(10):\n",
    "    plt.subplot(2, 5, i + 1)\n",
    "    \n",
    "    # Rescale the weights to be between 0 and 255\n",
    "    wimg = 255.0 * (w[:, :, :, i].squeeze() - w_min) / (w_max - w_min)\n",
    "    plt.imshow(wimg.astype('uint8'))\n",
    "    plt.axis('off')\n",
    "    plt.title(classes[i])"
   ]
  },
  {
   "cell_type": "code",
   "execution_count": null,
   "metadata": {},
   "outputs": [],
   "source": []
  }
 ],
 "metadata": {
  "kernelspec": {
   "display_name": "Python 3",
   "language": "python",
   "name": "python3"
  },
  "language_info": {
   "codemirror_mode": {
    "name": "ipython",
    "version": 3
   },
   "file_extension": ".py",
   "mimetype": "text/x-python",
   "name": "python",
   "nbconvert_exporter": "python",
   "pygments_lexer": "ipython3",
   "version": "3.6.4"
  }
 },
 "nbformat": 4,
 "nbformat_minor": 1
}
